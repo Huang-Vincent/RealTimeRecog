{
 "cells": [
  {
   "cell_type": "code",
   "execution_count": 5,
   "metadata": {},
   "outputs": [],
   "source": [
    "import cv2\n",
    "import matplotlib.pyplot as plt\n",
    "import numpy as np\n",
    "import tensorflow as tf\n",
    "\n",
    "def prepare(filepath): \n",
    "    IMG_SIZE = 28 \n",
    "    img_array = cv2.imread(filepath, cv2.IMREAD_UNCHANGED)\n",
    "    img_changes = []\n",
    "    \n",
    "    #Make mask of the transparent bits\n",
    "    mask = img_array[:,:,3] == 0\n",
    "    img_changes.append(img_array)\n",
    "    \n",
    "    #change the mask bits to black\n",
    "    #img_array[mask] = [0, 0, 0, 0]\n",
    "    #img_changes.append(img_array)\n",
    "    \n",
    "    #make new image\n",
    "    img_array = cv2.cvtColor(img_array, cv2.COLOR_BGRA2GRAY)\n",
    "    img_changes.append(img_array)\n",
    "    \n",
    "    img_array = cv2.GaussianBlur(img_array, (5, 5), 0)\n",
    "    ret,img_array = cv2.threshold(img_array,125,255,0)\n",
    "    img_changes.append(img_array)\n",
    "\n",
    "    new_array = cv2.resize(img_array, (IMG_SIZE, IMG_SIZE), interpolation=cv2.INTER_AREA)\n",
    "    img_changes.append(new_array)\n",
    "    \n",
    "    #diplaying images\n",
    "    fig=plt.figure(figsize=(10, 10))\n",
    "    for i in range(len(img_changes)):\n",
    "        fig.add_subplot(1, 5, i+1)\n",
    "        plt.imshow(img_changes[i])\n",
    "    plt.show()\n",
    "        \n",
    "    return new_array.reshape(-1, IMG_SIZE, IMG_SIZE, 1)"
   ]
  },
  {
   "cell_type": "code",
   "execution_count": 6,
   "metadata": {
    "scrolled": true
   },
   "outputs": [
    {
     "data": {
      "image/png": "[encoded data removed]",
      "text/plain": [
       "<Figure size 720x720 with 4 Axes>"
      ]
     },
     "metadata": {
      "needs_background": "light"
     },
     "output_type": "display_data"
    },
    {
     "name": "stdout",
     "output_type": "stream",
     "text": [
      "1/1 [==============================] - 0s 80ms/sample\n",
      "[[0.09438707 0.12360313 0.10679393 0.0988284  0.09919459 0.09493345\n",
      "  0.10239847 0.10443866 0.08594467 0.08947763]]\n"
     ]
    }
   ],
   "source": [
    "model = tf.keras.models.load_model(\"cnn.model\")\n",
    "newImage = prepare('pic.png')\n",
    "prediction = model.predict(newImage, verbose = 1) \n",
    "print(prediction)"
   ]
  },
  {
   "cell_type": "code",
   "execution_count": null,
   "metadata": {},
   "outputs": [],
   "source": []
  },
  {
   "cell_type": "code",
   "execution_count": null,
   "metadata": {},
   "outputs": [],
   "source": []
  }
 ],
 "metadata": {
  "kernelspec": {
   "display_name": "Python 3",
   "language": "python",
   "name": "python3"
  },
  "language_info": {
   "codemirror_mode": {
    "name": "ipython",
    "version": 3
   },
   "file_extension": ".py",
   "mimetype": "text/x-python",
   "name": "python",
   "nbconvert_exporter": "python",
   "pygments_lexer": "ipython3",
   "version": "3.6.7"
  }
 },
 "nbformat": 4,
 "nbformat_minor": 2
}
