{
 "cells": [
  {
   "cell_type": "code",
   "execution_count": 5,
   "metadata": {},
   "outputs": [],
   "source": [
    "import cv2\n",
    "import matplotlib.pyplot as plt\n",
    "import numpy as np\n",
    "import tensorflow as tf\n",
    "\n",
    "model = tf.keras.models.load_model(\"cnn.model\")\n",
    "\n",
    "def getContours(filepath): \n",
    "    IMG_SIZE = 28 \n",
    "    img_array = cv2.imread(filepath, cv2.IMREAD_UNCHANGED)\n",
    "    \n",
    "    #Make mask of the transparent bits\n",
    "    mask = img_array[:,:,3] == 0\n",
    "    \n",
    "    #change the mask bits to black\n",
    "    img_array[mask] = [0, 0, 0, 0]\n",
    "\n",
    "    #make new image\n",
    "    cont_array = cv2.cvtColor(img_array, cv2.COLOR_BGRA2GRAY)\n",
    "    cont_array = cv2.GaussianBlur(cont_array, (5, 5), 0)\n",
    "    \n",
    "    #find the contours\n",
    "    ret,thresh = cv2.threshold(cont_array,127,255,0)\n",
    "    contours, _ = cv2.findContours(thresh, cv2.RETR_LIST, cv2.CHAIN_APPROX_SIMPLE)\n",
    "    \n",
    "    # Get rectangles contains each contour\n",
    "    rects = [cv2.boundingRect(ctr) for ctr in contours]\n",
    "    \n",
    "    for rect in rects:\n",
    "        cv2.rectangle(cont_array, (rect[0], rect[1]), (rect[0] + rect[2], rect[1] + rect[3]), (0, 255, 0), 3) \n",
    "        # Make the rectangular region around the digit\n",
    "        leng = int(rect[3] * 1.6)\n",
    "        pt1 = int(rect[1] + rect[3] // 2 - leng // 2)\n",
    "        pt2 = int(rect[0] + rect[2] // 2 - leng // 2)\n",
    "        roi = cont_array[pt1:pt1+leng, pt2:pt2+leng]\n",
    "        # Resize the image\n",
    "        roi = cv2.resize(roi, (28, 28), interpolation=cv2.INTER_AREA)\n",
    "        roi = roi.reshape(-1, 28, 28, 1)\n",
    "        \n",
    "        print(roi.shape)\n",
    "\n",
    "        prediction = model.predict(roi)\n",
    "        print(prediction)\n",
    "        #nbr = model.predict(np.array([roi], 'float64'))\n",
    "        #cv2.putText(im, str(int(nbr[0])), (rect[0], rect[1]),cv2.FONT_HERSHEY_DUPLEX, 2, (0, 255, 255), 3)\n",
    "    \n",
    "    cv2.drawContours(img_array, contours, -1, (255,0,0))\n",
    "    cv2.imshow('Draw contours',img_array)\n",
    "    cv2.waitKey()\n",
    "    \n",
    "    return "
   ]
  },
  {
   "cell_type": "code",
   "execution_count": 6,
   "metadata": {
    "scrolled": true
   },
   "outputs": [
    {
     "name": "stdout",
     "output_type": "stream",
     "text": [
      "(1, 28, 28, 1)\n",
      "[[0.09438707 0.12360313 0.10679393 0.0988284  0.09919459 0.09493345\n",
      "  0.10239847 0.10443866 0.08594467 0.08947763]]\n"
     ]
    }
   ],
   "source": [
    "newImage = getContours('pic.png')"
   ]
  },
  {
   "cell_type": "code",
   "execution_count": null,
   "metadata": {},
   "outputs": [],
   "source": []
  }
 ],
 "metadata": {
  "kernelspec": {
   "display_name": "Python 3",
   "language": "python",
   "name": "python3"
  },
  "language_info": {
   "codemirror_mode": {
    "name": "ipython",
    "version": 3
   },
   "file_extension": ".py",
   "mimetype": "text/x-python",
   "name": "python",
   "nbconvert_exporter": "python",
   "pygments_lexer": "ipython3",
   "version": "3.6.7"
  }
 },
 "nbformat": 4,
 "nbformat_minor": 2
}
