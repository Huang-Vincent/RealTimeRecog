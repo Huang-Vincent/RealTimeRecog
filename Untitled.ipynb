{
 "cells": [
  {
   "cell_type": "code",
   "execution_count": 44,
   "metadata": {},
   "outputs": [],
   "source": [
    "import cv2\n",
    "import matplotlib.pyplot as plt\n",
    "import numpy as np\n",
    "import tensorflow as tf\n",
    "\n",
    "def prepare(filepath): \n",
    "    IMG_SIZE = 28 \n",
    "    img_array = cv2.imread(filepath, cv2.IMREAD_UNCHANGED) \n",
    "    \n",
    "    print(img_array.shape)\n",
    "    \n",
    "    #Make mask of the transparent bits\n",
    "    mask = img_array[:,:,3]\n",
    "    \n",
    "    print(mask.shape)\n",
    "    \n",
    "    #change the mask bits to black\n",
    "    img_array[mask] = [0, 0, 0, 0]\n",
    "\n",
    "    #make new image\n",
    "    img_array = cv2.cvtColor(img_array, cv2.COLOR_BGRA2GRAY)\n",
    "    \n",
    "    plt.imshow(img_array)\n",
    "    \n",
    "    new_array = cv2.resize(img_array, (IMG_SIZE, IMG_SIZE), interpolation=cv2.INTER_AREA) \n",
    "    \n",
    "    return new_array.reshape(-1, 28, 28, 1)"
   ]
  },
  {
   "cell_type": "code",
   "execution_count": 59,
   "metadata": {
    "scrolled": true
   },
   "outputs": [
    {
     "name": "stdout",
     "output_type": "stream",
     "text": [
      "(600, 800, 4)\n",
      "(600, 800)\n",
      "1/1 [==============================] - 0s 190ms/sample\n",
      "[[0. 0. 0. 0. 1. 0. 0. 0. 0. 0.]]\n"
     ]
    },
    {
     "data": {
      "image/png": "[encoded data removed]",
      "text/plain": [
       "<Figure size 432x288 with 1 Axes>"
      ]
     },
     "metadata": {
      "needs_background": "light"
     },
     "output_type": "display_data"
    }
   ],
   "source": [
    "model = tf.keras.models.load_model(\"cnn.model\")\n",
    "newImage = prepare('pic.png')\n",
    "\n",
    "prediction = model.predict(newImage, verbose = 1) \n",
    "\n",
    "print(prediction)"
   ]
  },
  {
   "cell_type": "code",
   "execution_count": null,
   "metadata": {},
   "outputs": [],
   "source": []
  },
  {
   "cell_type": "code",
   "execution_count": null,
   "metadata": {},
   "outputs": [],
   "source": []
  }
 ],
 "metadata": {
  "kernelspec": {
   "display_name": "Python 3",
   "language": "python",
   "name": "python3"
  },
  "language_info": {
   "codemirror_mode": {
    "name": "ipython",
    "version": 3
   },
   "file_extension": ".py",
   "mimetype": "text/x-python",
   "name": "python",
   "nbconvert_exporter": "python",
   "pygments_lexer": "ipython3",
   "version": "3.6.7"
  }
 },
 "nbformat": 4,
 "nbformat_minor": 2
}
